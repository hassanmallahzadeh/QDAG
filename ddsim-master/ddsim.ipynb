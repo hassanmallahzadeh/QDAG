{
 "cells": [
  {
   "cell_type": "markdown",
   "id": "6525a8d5",
   "metadata": {},
   "source": [
    "# Using JKQ DDSIM from Python\n",
    "\n",
    "JKQ DDSIM is available for multiple Python versions (>=3.6) from [PyPI](https://pypi.org/project/jkq.ddsim/). \n",
    "Using it as backend for [Qiskit](https://qiskit.org/) additionally requires at least [qiskit-terra](https://pypi.org/project/qiskit-terra/).\n",
    "\n",
    "In a [virtual environment](https://docs.python.org/3/tutorial/venv.html) you can use the following snippet:\n",
    "```\n",
    "(venv) $ pip install jkq.ddsim qiskit-terra\n",
    "```\n",
    "\n",
    "The JKQProvider currently has two backends\n",
    "- QasmSimulator simulates a circuit and generates the given number of shots\n",
    "- StatevectorSimulator simulates the circuit and returns the statevector"
   ]
  },
  {
   "cell_type": "markdown",
   "id": "648d6021",
   "metadata": {},
   "source": [
    "## QasmSimulator for Sampling\n",
    "\n",
    "The QasmSimulator-Backend take a QuantumCircuit object and simulates it using decision diagrams in the underlying C++ implementation.\n",
    "For circuits with no non-unitary operations (except for measurements at the end of the circuit) the simulation is only done once and the samples subsequently drawn from the decision diagram, resulting in fast runtime."
   ]
  },
  {
   "cell_type": "code",
   "execution_count": 1,
   "id": "74435407",
   "metadata": {},
   "outputs": [
    {
     "name": "stdout",
     "output_type": "stream",
     "text": [
      "     ┌───┐          \n",
      "q_0: ┤ H ├──■────■──\n",
      "     └───┘┌─┴─┐  │  \n",
      "q_1: ─────┤ X ├──┼──\n",
      "          └───┘┌─┴─┐\n",
      "q_2: ──────────┤ X ├\n",
      "               └───┘\n",
      "Backend version: 1.6.0\n",
      "{'000': 49709, '111': 50291}\n"
     ]
    }
   ],
   "source": [
    "from qiskit import *\n",
    "\n",
    "from jkq import ddsim\n",
    "\n",
    "# Circuit to create a Bell state\n",
    "circ = QuantumCircuit(3)\n",
    "circ.h(0)\n",
    "circ.cx(0, 1)\n",
    "circ.cx(0, 2)\n",
    "\n",
    "\n",
    "# Show circuit\n",
    "print(circ.draw(fold=-1))\n",
    "\n",
    "provider = ddsim.JKQProvider()\n",
    "\n",
    "# get the QasmSimulator and sample 100000 times\n",
    "backend = provider.get_backend('qasm_simulator')\n",
    "print(f'Backend version: {backend.configuration().backend_version}')\n",
    "job = execute(circ, backend, shots=100000)\n",
    "result = job.result()\n",
    "counts = result.get_counts(circ)\n",
    "print(counts)"
   ]
  },
  {
   "cell_type": "markdown",
   "id": "9f746cf6",
   "metadata": {},
   "source": [
    "## StatevectorSimulator for Observing the Statevector\n",
    "\n",
    "The StatevectorSimulator-Backend takes a QuantumCircuit as above but return the state vector instead of a number of samples."
   ]
  },
  {
   "cell_type": "code",
   "execution_count": 2,
   "id": "91aa28bd",
   "metadata": {},
   "outputs": [
    {
     "name": "stdout",
     "output_type": "stream",
     "text": [
      "Backend version: 1.6.0\n",
      "[0.70710678+0.j 0.        +0.j 0.        +0.j 0.        +0.j\n",
      " 0.        +0.j 0.        +0.j 0.        +0.j 0.70710678+0.j]\n"
     ]
    }
   ],
   "source": [
    "# get the StatevectorSimulator and calculate the statevector\n",
    "backend = provider.get_backend('statevector_simulator')\n",
    "print(f'Backend version: {backend.configuration().backend_version}')\n",
    "job = execute(circ, backend)\n",
    "result = job.result()\n",
    "counts = result.get_statevector(circ)\n",
    "print(counts)"
   ]
  }
 ],
 "metadata": {
  "kernelspec": {
   "display_name": "Python 3",
   "language": "python",
   "name": "python3"
  },
  "language_info": {
   "codemirror_mode": {
    "name": "ipython",
    "version": 3
   },
   "file_extension": ".py",
   "mimetype": "text/x-python",
   "name": "python",
   "nbconvert_exporter": "python",
   "pygments_lexer": "ipython3",
   "version": "3.8.5"
  }
 },
 "nbformat": 4,
 "nbformat_minor": 5
}
